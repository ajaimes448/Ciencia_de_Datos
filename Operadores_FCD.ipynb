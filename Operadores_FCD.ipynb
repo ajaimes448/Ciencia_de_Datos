{
  "nbformat": 4,
  "nbformat_minor": 0,
  "metadata": {
    "colab": {
      "provenance": [],
      "include_colab_link": true
    },
    "kernelspec": {
      "name": "python3",
      "display_name": "Python 3"
    },
    "language_info": {
      "name": "python"
    }
  },
  "cells": [
    {
      "cell_type": "markdown",
      "metadata": {
        "id": "view-in-github",
        "colab_type": "text"
      },
      "source": [
        "<a href=\"https://colab.research.google.com/github/ajaimes448/Ciencia_de_Datos/blob/main/Operadores_FCD.ipynb\" target=\"_parent\"><img src=\"https://colab.research.google.com/assets/colab-badge.svg\" alt=\"Open In Colab\"/></a>"
      ]
    },
    {
      "cell_type": "markdown",
      "source": [],
      "metadata": {
        "id": "9xKYkapIqcgS"
      }
    },
    {
      "cell_type": "code",
      "source": [
        "num = int(input(\"Ingrese un numero: \"))\n",
        "print(f\"{num} es par\") if num%2==0 else print(f\"{num} es impar\")"
      ],
      "metadata": {
        "colab": {
          "base_uri": "https://localhost:8080/"
        },
        "id": "Rm5v2dBZrMyB",
        "outputId": "e4e3e14e-e9c7-43bf-ea6f-0881de6bd34a"
      },
      "execution_count": 1,
      "outputs": [
        {
          "output_type": "stream",
          "name": "stdout",
          "text": [
            "Ingrese un numero: 2\n",
            "2 es par\n"
          ]
        }
      ]
    },
    {
      "cell_type": "code",
      "source": [
        "año = int(input(\"ingrese un año \"))\n",
        "print(f\"{año} es bisiesto\") if año%4==0 else print(f\"{año} no es bisiesto\")"
      ],
      "metadata": {
        "id": "zpa_N0V6sDhY",
        "colab": {
          "base_uri": "https://localhost:8080/"
        },
        "outputId": "45174e34-0aaa-474f-af29-79c263e0c35b"
      },
      "execution_count": 2,
      "outputs": [
        {
          "output_type": "stream",
          "name": "stdout",
          "text": [
            "ingrese un año 3\n",
            "3 no es bisiesto\n"
          ]
        }
      ]
    },
    {
      "cell_type": "code",
      "source": [
        "nombre = input(\"ingrese su nombre \")\n",
        "edad = int(input(\"ingrse su edad \"))\n",
        "print(f\"{nombre} perteneces a la tercera edad\") if edad>=70 else print(f\"{nombre} no perteneces a la tercera edad\")"
      ],
      "metadata": {
        "colab": {
          "base_uri": "https://localhost:8080/"
        },
        "id": "OZc8iFepshkg",
        "outputId": "40a549da-ba7c-45d0-c12c-6fbf8549abf2"
      },
      "execution_count": 3,
      "outputs": [
        {
          "output_type": "stream",
          "name": "stdout",
          "text": [
            "ingrese su nombre 4\n",
            "ingrse su edad 5\n",
            "4 no perteneces a la tercera edad\n"
          ]
        }
      ]
    },
    {
      "cell_type": "code",
      "source": [
        "numero_1 = int(input(\"ingrese un numero \"))\n",
        "numero_2 = int(input(\"ingrese un numero \"))\n",
        "numero_3= int(input(\"ingrese un numero \"))\n",
        "print(f\"{numero_1} es el mayor\") if numero_1>numero_2 and numero_1>numero_3 else print(f\"{numero_2} es el mayor\") if numero_2>numero_1 and numero_2>numero_3 else print(f\"{numero_3} es el mayor\")"
      ],
      "metadata": {
        "id": "SDQ6JpYftY-H",
        "colab": {
          "base_uri": "https://localhost:8080/"
        },
        "outputId": "cdca5346-75b6-4713-edb4-35e568828852"
      },
      "execution_count": 4,
      "outputs": [
        {
          "output_type": "stream",
          "name": "stdout",
          "text": [
            "ingrese un numero 6\n",
            "ingrese un numero 7\n",
            "ingrese un numero 8\n",
            "8 es el mayor\n"
          ]
        }
      ]
    },
    {
      "cell_type": "code",
      "source": [
        "lado_1= float(input(\"ingrese el lado 1 \"))\n",
        "lado_2= float(input(\"ingrese el lado 2 \"))\n",
        "lado_3= float(input(\"ingrese el lado 3 \"))\n",
        "print(f\"es un triangulo equilatero\") if lado_1==lado_2 and lado_2==lado_3 else print(f\"es un triangulo isoceles\") if lado_2==lado_1 and lado_2==lado_3 or lado_3==lado_1 and lado_3==lado_2 else print(f\"es un triangulo escaleno\")"
      ],
      "metadata": {
        "id": "oHH0DFi1u6on",
        "colab": {
          "base_uri": "https://localhost:8080/"
        },
        "outputId": "4c3ed085-d1cc-4335-a096-ca553a1c8d6f"
      },
      "execution_count": 5,
      "outputs": [
        {
          "output_type": "stream",
          "name": "stdout",
          "text": [
            "ingrese el lado 1 6\n",
            "ingrese el lado 2 7\n",
            "ingrese el lado 3 8\n",
            "es un triangulo escaleno\n"
          ]
        }
      ]
    },
    {
      "cell_type": "code",
      "source": [
        "Doble = lambda num: num*2\n",
        "print(Doble(5))"
      ],
      "metadata": {
        "colab": {
          "base_uri": "https://localhost:8080/"
        },
        "id": "97qNfTxEv9vl",
        "outputId": "1dc54343-0d13-44bb-9c36-5975f6783f62"
      },
      "execution_count": 6,
      "outputs": [
        {
          "output_type": "stream",
          "name": "stdout",
          "text": [
            "10\n"
          ]
        }
      ]
    },
    {
      "cell_type": "code",
      "source": [
        "triangulo =lambda a,b,c: \"es un triangulo\" if a+b>b and a+c>b and b+c>a else \"no es un triangulo\""
      ],
      "metadata": {
        "id": "TOlm0sgU0ImC"
      },
      "execution_count": 7,
      "outputs": []
    },
    {
      "cell_type": "code",
      "source": [
        "triangulo_1= lambda a,b,c: \"es un triangulo equilatero\" if a==b and a==c else \"es un triangulo isoceles\" if a==b or a==c or b==c else \"es un triangulo escaleno\""
      ],
      "metadata": {
        "id": "O42LN89y1o4p"
      },
      "execution_count": 8,
      "outputs": []
    },
    {
      "cell_type": "code",
      "source": [
        "a= float(input(\"ingrese el lado 1 \"))\n",
        "b= float(input(\"ingrese el lado 2 \"))\n",
        "c= float(input(\"ingrese el lado 3 \"))"
      ],
      "metadata": {
        "id": "I5NxzuKD12PQ",
        "colab": {
          "base_uri": "https://localhost:8080/"
        },
        "outputId": "1abf846f-341a-436b-e63c-687db6295c13"
      },
      "execution_count": 9,
      "outputs": [
        {
          "name": "stdout",
          "output_type": "stream",
          "text": [
            "ingrese el lado 1 6\n",
            "ingrese el lado 2 7\n",
            "ingrese el lado 3 9\n"
          ]
        }
      ]
    },
    {
      "cell_type": "code",
      "source": [
        "multiplicador = lambda num: [print(num,\"X\", i, \"=\", num*i)for i in range(10)]"
      ],
      "metadata": {
        "id": "x9kUbeDL2w0H"
      },
      "execution_count": 10,
      "outputs": []
    },
    {
      "cell_type": "code",
      "source": [
        "multiplicador(5)"
      ],
      "metadata": {
        "colab": {
          "base_uri": "https://localhost:8080/"
        },
        "id": "WuCaEwGD4mEm",
        "outputId": "2d85247d-7d96-43f0-ac38-37b388fa6855"
      },
      "execution_count": 11,
      "outputs": [
        {
          "output_type": "stream",
          "name": "stdout",
          "text": [
            "5 X 0 = 0\n",
            "5 X 1 = 5\n",
            "5 X 2 = 10\n",
            "5 X 3 = 15\n",
            "5 X 4 = 20\n",
            "5 X 5 = 25\n",
            "5 X 6 = 30\n",
            "5 X 7 = 35\n",
            "5 X 8 = 40\n",
            "5 X 9 = 45\n"
          ]
        },
        {
          "output_type": "execute_result",
          "data": {
            "text/plain": [
              "[None, None, None, None, None, None, None, None, None, None]"
            ]
          },
          "metadata": {},
          "execution_count": 11
        }
      ]
    }
  ]
}