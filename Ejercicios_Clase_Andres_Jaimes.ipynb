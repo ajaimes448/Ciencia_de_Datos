{
  "nbformat": 4,
  "nbformat_minor": 0,
  "metadata": {
    "colab": {
      "provenance": [],
      "include_colab_link": true
    },
    "kernelspec": {
      "name": "python3",
      "display_name": "Python 3"
    },
    "language_info": {
      "name": "python"
    }
  },
  "cells": [
    {
      "cell_type": "markdown",
      "metadata": {
        "id": "view-in-github",
        "colab_type": "text"
      },
      "source": [
        "<a href=\"https://colab.research.google.com/github/ajaimes448/Ciencia_de_Datos/blob/main/Ejercicios_Clase_Andres_Jaimes.ipynb\" target=\"_parent\"><img src=\"https://colab.research.google.com/assets/colab-badge.svg\" alt=\"Open In Colab\"/></a>"
      ]
    },
    {
      "cell_type": "code",
      "source": [
        "#Ejercicio 1. Escribe un programa que calcule el área de un triángulo pidiendo base y altura al usuario\n",
        "\n",
        "print(\"Vamos a calcular el área del triangulo\")\n",
        "\n",
        "x=float(input(\"Cual es la base?\"))\n",
        "y=float(input(\"cual es la altura?\"))\n",
        "\n",
        "print(\"el area es \"+ str(float(x*y)/2))\n",
        "\n",
        "#Los datos son de tipo float\n"
      ],
      "metadata": {
        "colab": {
          "base_uri": "https://localhost:8080/"
        },
        "id": "_e1FhXbsqV3S",
        "outputId": "7ba921df-4145-43e4-dda1-4a5ed7bda796"
      },
      "execution_count": 2,
      "outputs": [
        {
          "output_type": "stream",
          "name": "stdout",
          "text": [
            "Vamos a calcular el área del triangulo\n",
            "Cual es la base?3\n",
            "cual es la altura?3\n",
            "el area es 4.5\n"
          ]
        }
      ]
    },
    {
      "cell_type": "code",
      "source": [
        "#Ejercicio 2\n",
        "#Crea un programa que convierta grados Celsius a Fahrenheit usando la fórmula: °F = (°C × 9/5) + 32\n",
        "\n",
        "print(\"convertiremos C a F\")\n",
        "\n",
        "c=float(input(\"a cuantos grados celsious estas ? \"))\n",
        "\n",
        "print(\"estas en fahrenheir en \"+ str(float((c*9/5)+32)))\n",
        "\n",
        "#Los datos son de tipo float"
      ],
      "metadata": {
        "colab": {
          "base_uri": "https://localhost:8080/"
        },
        "id": "8tE-7vumslnr",
        "outputId": "ee1db375-db68-46b5-ff6d-eb7de9c51b8e"
      },
      "execution_count": 3,
      "outputs": [
        {
          "output_type": "stream",
          "name": "stdout",
          "text": [
            "convertiremos C a F\n",
            "a cuantos grados celsious estas ? 3\n",
            "estas en fahrenheir en 37.4\n"
          ]
        }
      ]
    },
    {
      "cell_type": "code",
      "source": [
        "# Ejercicio 3\n",
        "print(\"Hallaremos el promedio de tres números\")\n",
        "\n",
        "n1 = float(input(\"Dime un número: \"))\n",
        "n2 = float(input(\"Dime otro: \"))\n",
        "n3 = float(input(\"Uno más: \"))\n",
        "\n",
        "prom = (n1 + n2 + n3) / 3\n",
        "print(\"El promedio es: \" + str(prom))\n",
        "\n",
        "#Los datos son de tipo float"
      ],
      "metadata": {
        "colab": {
          "base_uri": "https://localhost:8080/"
        },
        "id": "fLbjhCElwy8E",
        "outputId": "c3894ff3-3b5c-4811-9a80-823019936c97"
      },
      "execution_count": 4,
      "outputs": [
        {
          "output_type": "stream",
          "name": "stdout",
          "text": [
            "Hallaremos el promedio de tres números\n",
            "Dime un número: 3\n",
            "Dime otro: 3\n",
            "Uno más: 3\n",
            "El promedio es: 3.0\n"
          ]
        }
      ]
    },
    {
      "cell_type": "code",
      "source": [
        "#Ejercicio 4#Escribe un programa que calcule el perímetro y área de un círculo dado su radio.\n",
        "\n",
        "radio=float(input(\"Cuál es el radio del cicurlo?\"))\n",
        "perimetro=float(2*3.14*radio)\n",
        "area=float(3.14*radio**2)\n",
        "\n",
        "print(\"el perimetro es \"+ str(perimetro)+\" y su área es \"+str(area))\n",
        "\n",
        "#Los datos son de tipo float\n",
        "\n",
        "\n"
      ],
      "metadata": {
        "colab": {
          "base_uri": "https://localhost:8080/"
        },
        "id": "2FDjG3lYxNOV",
        "outputId": "52e8fabc-eabf-499f-be6b-a3f8579f0a82"
      },
      "execution_count": 5,
      "outputs": [
        {
          "output_type": "stream",
          "name": "stdout",
          "text": [
            "Cuál es el radio del cicurlo?3\n",
            "el perimetro es 18.84 y su área es 28.26\n"
          ]
        }
      ]
    },
    {
      "cell_type": "code",
      "source": [
        "#Ejercicio 5\n",
        "#Crea un programa que resuelva una ecuación cuadrática (ax² + bx + c = 0) pidiendo los valores de a, b y c\n",
        "\n",
        "print(\"calculamos la funcion cuadratica dado a,b y c , de la forma ax² + bx + c = 0\")\n",
        "\n",
        "a=float(input(\"cual es el valor de a?\"))\n",
        "b=float(input(\"cual es el valor de b?\"))\n",
        "c=float(input(\"cual es el valor de c?\"))\n",
        "\n",
        "error=(b**2)-(4*a*c)\n",
        "\n",
        "if error<0:\n",
        "  print(\"las raices no pueden ser números irreales\")\n",
        "\n",
        "else:\n",
        "  x1=float((-b+((b**2)-(4*a*c))**0.5)/(2*a))\n",
        "  x2=float((-b-((b**2)-(4*a*c))**0.5)/(2*a))\n",
        "\n",
        "  print(\"el valor de x1 es \"+str(x1)+\" y el de x2 es \"+str(x2))\n",
        "\n",
        "#Los datos son de tipo float o string\n"
      ],
      "metadata": {
        "colab": {
          "base_uri": "https://localhost:8080/"
        },
        "id": "2kFwghjAyDwq",
        "outputId": "cf622fa9-bb1d-4f8d-a0ba-8fbfba1602b9"
      },
      "execution_count": 6,
      "outputs": [
        {
          "output_type": "stream",
          "name": "stdout",
          "text": [
            "calculamos la funcion cuadratica dado a,b y c , de la forma ax² + bx + c = 0\n",
            "cual es el valor de a?3\n",
            "cual es el valor de b?4\n",
            "cual es el valor de c?5\n",
            "las raices no pueden ser números irreales\n"
          ]
        }
      ]
    },
    {
      "cell_type": "code",
      "source": [
        "#6.Desarrolla un programa que determine si un número es par o impar\n",
        "\n",
        "n1=float(input(\"escribe un número\"))\n",
        "\n",
        "fun= n1%2\n",
        "\n",
        "if fun==0:\n",
        "  print(\"numero par\")\n",
        "else:\n",
        "  print(\"numero impar\")\n",
        "\n",
        "#Los datos son de tipo string\n"
      ],
      "metadata": {
        "colab": {
          "base_uri": "https://localhost:8080/"
        },
        "id": "6lvVkAV50yl6",
        "outputId": "aba24b3c-70b8-405e-b1c8-b336c64e0291"
      },
      "execution_count": 7,
      "outputs": [
        {
          "output_type": "stream",
          "name": "stdout",
          "text": [
            "escribe un número3\n",
            "numero impar\n"
          ]
        }
      ]
    },
    {
      "cell_type": "code",
      "source": [
        "#7Crea un programa que determine si un año es bisiesto (divisible por 4 y no por 100, o divisible por 400)\n",
        "\n",
        "año=int(input(\"Ingresa el año: \"))\n",
        "\n",
        "prueba1=año%4\n",
        "p2=año%400\n",
        "\n",
        "if prueba1==0 or p2==0 :\n",
        "  print(\"el año es bisiesto\")\n",
        "else:\n",
        "  print(\"el año no es bisiesto\")\n",
        "\n",
        "#datos tipo string"
      ],
      "metadata": {
        "colab": {
          "base_uri": "https://localhost:8080/"
        },
        "id": "Cun9Yjhr125h",
        "outputId": "59330b05-fa20-431c-9054-5514329dd89f"
      },
      "execution_count": 8,
      "outputs": [
        {
          "output_type": "stream",
          "name": "stdout",
          "text": [
            "Ingresa el año: 2004\n",
            "el año es bisiesto\n"
          ]
        }
      ]
    },
    {
      "cell_type": "code",
      "source": [
        "#8Escribe un programa que solicite el nombre del usuario y determine si una persona pertenece\n",
        "#a la tercera edad (70 años o más) y si se cumple la condición, imprima que se le da prioridad en la fila\n",
        "\n",
        "Nom=input(\"Cual es tu nombre?\")\n",
        "edad=int(input(\"Cual es tu edad?\"))\n",
        "\n",
        "if edad>70 or edad==70 :\n",
        "  print(\"El señ@r \" + Nom + \"tiene prioridad en la fila\")\n",
        "else:\n",
        "  print(\"El señ@r \" + Nom + \"no tiene prioridad en la fila\")\n",
        "\n",
        "  #datos tipo string"
      ],
      "metadata": {
        "colab": {
          "base_uri": "https://localhost:8080/"
        },
        "id": "y3CBozrQc6hk",
        "outputId": "751b270f-48a0-4d52-fd6d-fe4629cdf23f"
      },
      "execution_count": 9,
      "outputs": [
        {
          "output_type": "stream",
          "name": "stdout",
          "text": [
            "Cual es tu nombre?Andres\n",
            "Cual es tu edad?25\n",
            "El señ@r Andresno tiene prioridad en la fila\n"
          ]
        }
      ]
    },
    {
      "cell_type": "code",
      "source": [
        "#9Desarrolla un programa que compare tres números y muestre el mayor.\n",
        "n1=float(input(\"escribe un número\"))\n",
        "n2=float(input(\"escribe otro número\"))\n",
        "n3=float(input(\"escribe otro número\"))\n",
        "\n",
        "if n1>n2 and n1>n3:\n",
        "  print(\"el mayor es \"+str(n1))\n",
        "elif n2>n3:\n",
        "  print(\"el mayor es \"+str(n2))\n",
        "else:\n",
        "  print(\"el mayor es \"+str(n3))\n",
        "\n",
        "#los datos son tipo float\n",
        "\n"
      ],
      "metadata": {
        "colab": {
          "base_uri": "https://localhost:8080/"
        },
        "id": "vAAYarAlfaB9",
        "outputId": "7002a6cc-32dc-4af5-bcf6-bf013876390e"
      },
      "execution_count": 10,
      "outputs": [
        {
          "output_type": "stream",
          "name": "stdout",
          "text": [
            "escribe un número5\n",
            "escribe otro número6\n",
            "escribe otro número7\n",
            "el mayor es 7.0\n"
          ]
        }
      ]
    },
    {
      "cell_type": "code",
      "source": [
        "#10.Crea un programa que determine si un triángulo es equilátero, isósceles o escaleno según sus lados.\n",
        "\n",
        "l1=int(input(\"Cual es la longitud del primer lado?\"))\n",
        "l2=int(input(\"Cual es la longitud del segundo lado?\"))\n",
        "l3=int(input(\"Cual es la longitud del tercer lado?\"))\n",
        "\n",
        "if l1==l2 and l1==l3 and l2==l3:\n",
        "  print(\"el triangulo es equilatero\")\n",
        "elif l1==l2 or l2==l3 or l1==l3 :\n",
        "  print(\"el triangulo es isoceles\")\n",
        "else:\n",
        "  print(\"el triangulo es escaleno\")\n",
        "#los primeros datos son int y el ultimo es string"
      ],
      "metadata": {
        "colab": {
          "base_uri": "https://localhost:8080/"
        },
        "id": "t0U30Cykjvvp",
        "outputId": "74a5d14e-f637-432b-9042-e3906ecedc5b"
      },
      "execution_count": 11,
      "outputs": [
        {
          "output_type": "stream",
          "name": "stdout",
          "text": [
            "Cual es la longitud del primer lado?4\n",
            "Cual es la longitud del segundo lado?5\n",
            "Cual es la longitud del tercer lado?6\n",
            "el triangulo es escaleno\n"
          ]
        }
      ]
    },
    {
      "cell_type": "code",
      "source": [
        "#11Escribe un programa que calcule el índice de masa corporal (IMC) y determine la categoría (bajo peso,  normal, sobrepeso, obesidad).\n",
        "#Al final, el programa debe imprimir: el nombre del usuario, su categoría y una breve descripción de lo que debe hacer de acuerdo a su categoría.\n",
        "\n",
        "nombre=input(\"Cual es tu nombre?\")\n",
        "peso=float(input(\"Cual es tu peso en kg?\"))\n",
        "altura=float(input(\"Cual es tu altura en m?\"))\n",
        "\n",
        "imc=peso/(altura)**2\n",
        "\n",
        "if imc<18.5 :\n",
        "  print(\"bajo peso ,debe comer mas\")\n",
        "elif imc>18.5 and imc<24.9 :\n",
        "  print(\"estas normal , sigue asi\")\n",
        "elif imc>24.9 and imc<29.9 :\n",
        "  print(\"sobrepeso , debe hacer ejercicio y mejorar su dieta\")\n",
        "else :\n",
        "  print(\"obesidad , esta comiendo para morir\")\n",
        "\n",
        "#tipo string"
      ],
      "metadata": {
        "colab": {
          "base_uri": "https://localhost:8080/",
          "height": 373
        },
        "id": "QBmMx2K1l9q3",
        "outputId": "c3ef214e-8d41-4b05-917f-f89aee16ea52"
      },
      "execution_count": 12,
      "outputs": [
        {
          "name": "stdout",
          "output_type": "stream",
          "text": [
            "Cual es tu nombre?Andres\n"
          ]
        },
        {
          "output_type": "error",
          "ename": "KeyboardInterrupt",
          "evalue": "Interrupted by user",
          "traceback": [
            "\u001b[0;31m---------------------------------------------------------------------------\u001b[0m",
            "\u001b[0;31mKeyboardInterrupt\u001b[0m                         Traceback (most recent call last)",
            "\u001b[0;32m<ipython-input-12-3b7b71556cee>\u001b[0m in \u001b[0;36m<cell line: 0>\u001b[0;34m()\u001b[0m\n\u001b[1;32m      3\u001b[0m \u001b[0;34m\u001b[0m\u001b[0m\n\u001b[1;32m      4\u001b[0m \u001b[0mnombre\u001b[0m\u001b[0;34m=\u001b[0m\u001b[0minput\u001b[0m\u001b[0;34m(\u001b[0m\u001b[0;34m\"Cual es tu nombre?\"\u001b[0m\u001b[0;34m)\u001b[0m\u001b[0;34m\u001b[0m\u001b[0;34m\u001b[0m\u001b[0m\n\u001b[0;32m----> 5\u001b[0;31m \u001b[0mpeso\u001b[0m\u001b[0;34m=\u001b[0m\u001b[0mfloat\u001b[0m\u001b[0;34m(\u001b[0m\u001b[0minput\u001b[0m\u001b[0;34m(\u001b[0m\u001b[0;34m\"Cual es tu peso en kg?\"\u001b[0m\u001b[0;34m)\u001b[0m\u001b[0;34m)\u001b[0m\u001b[0;34m\u001b[0m\u001b[0;34m\u001b[0m\u001b[0m\n\u001b[0m\u001b[1;32m      6\u001b[0m \u001b[0maltura\u001b[0m\u001b[0;34m=\u001b[0m\u001b[0mfloat\u001b[0m\u001b[0;34m(\u001b[0m\u001b[0minput\u001b[0m\u001b[0;34m(\u001b[0m\u001b[0;34m\"Cual es tu altura en m?\"\u001b[0m\u001b[0;34m)\u001b[0m\u001b[0;34m)\u001b[0m\u001b[0;34m\u001b[0m\u001b[0;34m\u001b[0m\u001b[0m\n\u001b[1;32m      7\u001b[0m \u001b[0;34m\u001b[0m\u001b[0m\n",
            "\u001b[0;32m/usr/local/lib/python3.11/dist-packages/ipykernel/kernelbase.py\u001b[0m in \u001b[0;36mraw_input\u001b[0;34m(self, prompt)\u001b[0m\n\u001b[1;32m   1175\u001b[0m                 \u001b[0;34m\"raw_input was called, but this frontend does not support input requests.\"\u001b[0m\u001b[0;34m\u001b[0m\u001b[0;34m\u001b[0m\u001b[0m\n\u001b[1;32m   1176\u001b[0m             )\n\u001b[0;32m-> 1177\u001b[0;31m         return self._input_request(\n\u001b[0m\u001b[1;32m   1178\u001b[0m             \u001b[0mstr\u001b[0m\u001b[0;34m(\u001b[0m\u001b[0mprompt\u001b[0m\u001b[0;34m)\u001b[0m\u001b[0;34m,\u001b[0m\u001b[0;34m\u001b[0m\u001b[0;34m\u001b[0m\u001b[0m\n\u001b[1;32m   1179\u001b[0m             \u001b[0mself\u001b[0m\u001b[0;34m.\u001b[0m\u001b[0m_parent_ident\u001b[0m\u001b[0;34m[\u001b[0m\u001b[0;34m\"shell\"\u001b[0m\u001b[0;34m]\u001b[0m\u001b[0;34m,\u001b[0m\u001b[0;34m\u001b[0m\u001b[0;34m\u001b[0m\u001b[0m\n",
            "\u001b[0;32m/usr/local/lib/python3.11/dist-packages/ipykernel/kernelbase.py\u001b[0m in \u001b[0;36m_input_request\u001b[0;34m(self, prompt, ident, parent, password)\u001b[0m\n\u001b[1;32m   1217\u001b[0m             \u001b[0;32mexcept\u001b[0m \u001b[0mKeyboardInterrupt\u001b[0m\u001b[0;34m:\u001b[0m\u001b[0;34m\u001b[0m\u001b[0;34m\u001b[0m\u001b[0m\n\u001b[1;32m   1218\u001b[0m                 \u001b[0;31m# re-raise KeyboardInterrupt, to truncate traceback\u001b[0m\u001b[0;34m\u001b[0m\u001b[0;34m\u001b[0m\u001b[0m\n\u001b[0;32m-> 1219\u001b[0;31m                 \u001b[0;32mraise\u001b[0m \u001b[0mKeyboardInterrupt\u001b[0m\u001b[0;34m(\u001b[0m\u001b[0;34m\"Interrupted by user\"\u001b[0m\u001b[0;34m)\u001b[0m \u001b[0;32mfrom\u001b[0m \u001b[0;32mNone\u001b[0m\u001b[0;34m\u001b[0m\u001b[0;34m\u001b[0m\u001b[0m\n\u001b[0m\u001b[1;32m   1220\u001b[0m             \u001b[0;32mexcept\u001b[0m \u001b[0mException\u001b[0m\u001b[0;34m:\u001b[0m\u001b[0;34m\u001b[0m\u001b[0;34m\u001b[0m\u001b[0m\n\u001b[1;32m   1221\u001b[0m                 \u001b[0mself\u001b[0m\u001b[0;34m.\u001b[0m\u001b[0mlog\u001b[0m\u001b[0;34m.\u001b[0m\u001b[0mwarning\u001b[0m\u001b[0;34m(\u001b[0m\u001b[0;34m\"Invalid Message:\"\u001b[0m\u001b[0;34m,\u001b[0m \u001b[0mexc_info\u001b[0m\u001b[0;34m=\u001b[0m\u001b[0;32mTrue\u001b[0m\u001b[0;34m)\u001b[0m\u001b[0;34m\u001b[0m\u001b[0;34m\u001b[0m\u001b[0m\n",
            "\u001b[0;31mKeyboardInterrupt\u001b[0m: Interrupted by user"
          ]
        }
      ]
    },
    {
      "cell_type": "code",
      "source": [
        "#12Desarrolla un programa que simule una calculadora simple (+, -, *, /) con dos números.\n",
        "\n",
        "n1=float(input(\"ingrese un numero: \"))\n",
        "n2=float(input(\"ingrese otro numero: \"))\n",
        "operacion=input(\"ingrese la operacion que desea realizar (+,-,*,/): \")\n",
        "\n",
        "if operacion==\"+\":\n",
        "  print(n1+n2)\n",
        "elif operacion==\"-\":\n",
        "  print(n1-n2)\n",
        "elif operacion==\"*\":\n",
        "  print(n1*n2)\n",
        "\n",
        "#tipo float"
      ],
      "metadata": {
        "id": "BBmEPA0Rpwkm"
      },
      "execution_count": null,
      "outputs": []
    },
    {
      "cell_type": "code",
      "source": [
        "#13 Crea un programa que determine la calificación en letras (A, B, C, D, F) según una nota numérica (0-100)\n",
        "\n",
        "num=float(input(\"Ingrese la nota: \"))\n",
        "\n",
        "if num>=90:\n",
        "    print(\"La nota es A\")\n",
        "elif num<50:\n",
        "    print(\"La nota es F\")\n",
        "elif num>=50 and num<70:\n",
        "    print(\"La nota es D\")\n",
        "elif num>=70 and num<79:\n",
        "    print(\"La nota es C\")\n",
        "elif num>=80 and num<90:\n",
        "    print(\"La nota es B\")\n",
        "\n",
        "#elif es para multiples opciones\n",
        "#else para uno solo\n",
        "#de float a string"
      ],
      "metadata": {
        "id": "708mTDi5sM01"
      },
      "execution_count": null,
      "outputs": []
    },
    {
      "cell_type": "code",
      "source": [
        "#14 Escribe un programa que determine el día de la semana según un número (1-7).\n",
        "\n",
        "num=int(input(\"Ingrese un numero del 1 al 7: \"))\n",
        "\n",
        "if num==1:\n",
        "    print(\"Lunes\")\n",
        "elif num==2:\n",
        "    print(\"Martes\")\n",
        "elif num==3:\n",
        "    print(\"Miercoles\")\n",
        "elif num==4:\n",
        "    print(\"Jueves\")\n",
        "elif num==5:\n",
        "    print(\"Viernes\")\n",
        "#string"
      ],
      "metadata": {
        "id": "qh83Q3OOKQ5N"
      },
      "execution_count": null,
      "outputs": []
    },
    {
      "cell_type": "code",
      "source": [
        "#15 Desarrolla un programa que valide si tres números pueden formar un triángulo y de qué tipo es\n",
        "\n",
        "#la longitud de dos de sus lados debe ser mayor a la longitud del tercer lado.\n",
        "\n",
        "a=float(input(\"Ingrese el primer lado: \"))\n",
        "b=float(input(\"Ingrese el segundo lado: \"))\n",
        "c=float(input(\"Ingrese el tercer lado: \"))\n",
        "\n",
        "if a+b>c and a+c>b and b+c>a:\n",
        "    print(\"Es un triangulo\")\n",
        "else :\n",
        "      print(\"No es un triangulo\")\n",
        "\n",
        "if a==b and a==c and b==c:\n",
        "  print(\"el triangulo es equilatero\")\n",
        "elif a==b or b==c or a==c :\n",
        "  print(\"el triangulo es isoceles\")\n",
        "else:\n",
        "  print(\"el triangulo es escaleno\")\n",
        "\n",
        "#tipo string"
      ],
      "metadata": {
        "id": "sN-jdHHXKuTz"
      },
      "execution_count": null,
      "outputs": []
    },
    {
      "cell_type": "code",
      "source": [
        "#16.Crea un programa que muestre la tabla de multiplicar de un número hasta el 10\n",
        "\n",
        "num=int(input(\"Ingrese un numero: \"))\n",
        "\n",
        "for i in range(1,11):\n",
        "    print(num,\"x\",i,\"=\",num*i)"
      ],
      "metadata": {
        "id": "cUR6V0uKXReZ"
      },
      "execution_count": null,
      "outputs": []
    },
    {
      "cell_type": "code",
      "source": [
        "#17 un programa que calcule la suma de números naturales hasta n.\n",
        "num=int(input(\"Ingrese un numero: \"))\n",
        "suma=0\n",
        "for i in range(1,num+1):\n",
        "    suma=suma+i\n",
        "print(\"La suma de los numeros naturales hasta\",num,\"es\",suma)\n",
        "\n",
        "\n"
      ],
      "metadata": {
        "id": "_1930XgiCwcB"
      },
      "execution_count": null,
      "outputs": []
    },
    {
      "cell_type": "code",
      "source": [
        "#18. Desarrolla un programa que calcule el factorial de un número. Recuerda que el factorial de 0 es 1 y no existen factoriales negativos.\n",
        "\n",
        "num=int(input(\"Ingrese un numero: \"))\n",
        "factorial=1\n",
        "for i in range(1,num+1):\n",
        "    factorial=factorial*i\n",
        "print(\"El factorial de\",num,\"es\",factorial)\n",
        "\n",
        "#tipo int"
      ],
      "metadata": {
        "id": "_HJyxq3mLvMH"
      },
      "execution_count": null,
      "outputs": []
    },
    {
      "cell_type": "code",
      "source": [
        " #19.Crea un programa que muestre los primeros n números de la serie Fibonacci\n",
        " d=1\n",
        " a=0\n",
        " b=1\n",
        " c=a+b\n",
        "print(a)\n",
        "while d<10:\n",
        "  d=d+1\n",
        "  c=a+b\n",
        "  a=b\n",
        "  b=c\n",
        "  print (c)\n",
        "\n",
        "#tipo int\n",
        "\n"
      ],
      "metadata": {
        "colab": {
          "base_uri": "https://localhost:8080/"
        },
        "id": "Qan8GkZAZrRl",
        "outputId": "f3e1c7bc-66b8-4f4f-d088-b1e5e297c7ca"
      },
      "execution_count": 19,
      "outputs": [
        {
          "output_type": "stream",
          "name": "stdout",
          "text": [
            "1\n",
            "2\n",
            "3\n",
            "5\n",
            "8\n",
            "13\n",
            "21\n",
            "34\n",
            "55\n"
          ]
        }
      ]
    },
    {
      "cell_type": "code",
      "source": [
        "a=0\n",
        "b=1\n",
        "\n",
        "print(a)\n",
        "for i in range(10):\n",
        "    c=a+b\n",
        "    a=b\n",
        "    b=c\n",
        "    print(c)\n"
      ],
      "metadata": {
        "id": "9jdi67H-iJSZ"
      },
      "execution_count": null,
      "outputs": []
    },
    {
      "cell_type": "code",
      "source": [
        "lista=[]\n",
        "for i in range(10):\n",
        "    color=str(input(\"Ingrese un color: \"))\n",
        "    lista.append(color)\n",
        "print(lista)"
      ],
      "metadata": {
        "id": "xRS9WJRUnbM2"
      },
      "execution_count": null,
      "outputs": []
    },
    {
      "cell_type": "code",
      "source": [
        "#20.Escribe un programa que adivine entre un conjunto de diez colores definidos por el usuario, con un máximo de 10 intentos.\n",
        "import random\n",
        "lista=[]\n",
        "for i in range(10):\n",
        "    color=str(input(\"Ingrese un color: \"))\n",
        "    lista.append(color)\n",
        "print(lista)\n",
        "\n",
        "\n",
        "num=random.randint(0,9)\n",
        "c3=lista[num]\n",
        "\n",
        "for i in range(10):\n",
        "  c=input(\" adivina el color:\")\n",
        "  if c==c3:\n",
        "    print(\"Adivinaste\")\n",
        "    break\n",
        "  else:\n",
        "    print(\"No adivinaste\")\n",
        "\n",
        "\n",
        "\n",
        "\n",
        "\n",
        "\n"
      ],
      "metadata": {
        "id": "2gLT5poUirci"
      },
      "execution_count": null,
      "outputs": []
    },
    {
      "cell_type": "code",
      "source": [
        "#21 Desarrolla un programa que muestre los números pares del 1 al 100.\n",
        "\n",
        "for i in range(1,101):\n",
        "    if i%2==0:\n",
        "      print (i)"
      ],
      "metadata": {
        "id": "YTFEe-QTo-jX"
      },
      "execution_count": null,
      "outputs": []
    },
    {
      "cell_type": "code",
      "source": [
        "#22Crea un programa que calcule la suma de los dígitos de un número.\n",
        "\n",
        "num=int(input(\"Ingrese un numero: \"))\n",
        "suma=0\n",
        "while num>0:\n",
        "    suma=suma+num%10\n",
        "    num=num//10\n",
        "print(\"La suma de los digitos del numero es\",suma)\n"
      ],
      "metadata": {
        "id": "NNDWJWbrMzEL"
      },
      "execution_count": null,
      "outputs": []
    },
    {
      "cell_type": "code",
      "source": [
        "#23 Escribe un programa que determine si un número es primo\n",
        "\n",
        "num=int(input(\"Ingrese un numero: \"))\n",
        "num1=num+1\n",
        "\n",
        "for i in range(1,num1):\n",
        " if num%i==0:\n",
        "  a+=1\n",
        "if a==2:\n",
        "  print(\"Es primo\")\n",
        "else:\n",
        "  print(\"No es primo\")"
      ],
      "metadata": {
        "id": "_Y5xceg3O2Hl"
      },
      "execution_count": null,
      "outputs": []
    },
    {
      "cell_type": "code",
      "source": [
        "es_primo(8)"
      ],
      "metadata": {
        "id": "DO0pTUWH73EY"
      },
      "execution_count": null,
      "outputs": []
    },
    {
      "cell_type": "code",
      "source": [
        "#24Desarrolla un programa que muestre el patrón de un triángulo con asteriscos\n",
        "def triangulo(a):\n",
        "    for i in range(1, a + 1):\n",
        "        print('*' * i)\n",
        "\n",
        "if __name__ == \"__main__\":\n",
        "    filas = int(input(\"Ingrese el número de filas: \"))\n",
        "    triangulo(filas)"
      ],
      "metadata": {
        "id": "oKZDqIV0ZnPg",
        "colab": {
          "base_uri": "https://localhost:8080/"
        },
        "outputId": "cb2055b1-d3bb-4c80-cdd5-0d4171144dc8"
      },
      "execution_count": 17,
      "outputs": [
        {
          "output_type": "stream",
          "name": "stdout",
          "text": [
            "Ingrese el número de filas: 5\n",
            "*\n",
            "**\n",
            "***\n",
            "****\n",
            "*****\n"
          ]
        }
      ]
    },
    {
      "cell_type": "code",
      "source": [
        "c=1"
      ],
      "metadata": {
        "id": "sc-FQTG4CHZ_"
      },
      "execution_count": 14,
      "outputs": []
    },
    {
      "cell_type": "code",
      "source": [
        "#25Crea un programa que calcule la potencia de un número sin usar el operador **\n",
        "\n",
        "num=int(input(\"dime el número:\"))\n",
        "pot=int(input(\"potencia\"))\n",
        "\n",
        "c=1\n",
        "\n",
        "for i in range(pot):\n",
        "  c=num*c\n",
        "\n",
        "print(c)\n",
        "\n",
        "\n",
        "\n"
      ],
      "metadata": {
        "id": "nb-K1gKzU588",
        "colab": {
          "base_uri": "https://localhost:8080/"
        },
        "outputId": "d481cb9e-277b-4e3e-af42-08c01a91a56d"
      },
      "execution_count": 15,
      "outputs": [
        {
          "output_type": "stream",
          "name": "stdout",
          "text": [
            "dime el número:4\n",
            "potencia5\n",
            "1024\n"
          ]
        }
      ]
    },
    {
      "cell_type": "code",
      "source": [
        "#26 Escribe un programa que muestre todas las tablas de multiplicar del 1 al 10\n",
        "\n",
        "def multiplicar():\n",
        "  a=1\n",
        "  for i in range(1,11):\n",
        "    print(f\"{i} * {a} = {i*a}\")"
      ],
      "metadata": {
        "id": "Z4RdgScMa5l6"
      },
      "execution_count": null,
      "outputs": []
    },
    {
      "cell_type": "code",
      "source": [
        "multiplicar()"
      ],
      "metadata": {
        "id": "VVWXRutUfzMZ"
      },
      "execution_count": null,
      "outputs": []
    },
    {
      "cell_type": "code",
      "source": [
        "#27Desarrolla un programa que encuentre todos los números perfectos hasta n.\n",
        "def encontrar_numeros_perfectos(limite):\n",
        "    numeros_perfectos = []\n",
        "    for num in range(2, limite + 1):\n",
        "        if es_numero_perfecto(num):\n",
        "            numeros_perfectos.append(num)\n",
        "    return numeros_perfectos"
      ],
      "metadata": {
        "id": "4W-HfA4ldFje"
      },
      "execution_count": null,
      "outputs": []
    },
    {
      "cell_type": "code",
      "source": [
        "encontrar_numeros_perfectos(1000)"
      ],
      "metadata": {
        "id": "XKn4PMVcd6MV"
      },
      "execution_count": null,
      "outputs": []
    },
    {
      "cell_type": "code",
      "source": [
        "#28.patron de diamente con asterisco\n",
        "filas=9\n",
        "for i in range (1,filas+1):\n",
        "  i=i-(filas//2+1)\n",
        "  if i<0:\n",
        "    i=-i\n",
        "  print(\" \"*i+\"*\"*(filas-2*i))\n",
        "\n",
        "  #tipo datos caracter"
      ],
      "metadata": {
        "id": "SCwNtnGsfKj4"
      },
      "execution_count": null,
      "outputs": []
    },
    {
      "cell_type": "code",
      "source": [
        "#29Escribe un programa que encuentre todos los números Armstrong hasta n.\n",
        "def es_numero_armstrong(numero):\n",
        "    num_digitos = len(str(numero))\n",
        "    suma = 0\n",
        "    temp = numero\n",
        "\n",
        "    while temp > 0:\n",
        "        digito = temp % 10\n",
        "        suma += digito ** num_digitos\n",
        "        temp //= 10\n",
        "\n",
        "    return numero == suma\n",
        "def imprimir_numeros_armstrong(inicio, fin):\n",
        "    print(f\"Números de Armstrong entre {inicio} y {fin}:\")\n",
        "    for numero in range(inicio, fin + 1):\n",
        "        if es_numero_armstrong(numero):\n",
        "            print(numero)\n"
      ],
      "metadata": {
        "id": "1zlJreqdez3p"
      },
      "execution_count": null,
      "outputs": []
    },
    {
      "cell_type": "code",
      "source": [
        "imprimir_numeros_armstrong(1, 1000)"
      ],
      "metadata": {
        "id": "N_a7zKWofMkn"
      },
      "execution_count": null,
      "outputs": []
    },
    {
      "cell_type": "code",
      "source": [
        "#30.\n",
        "#Desarrolla un programa que simule un reloj digital mostrando horas, minutos y segundos durante un período específico.\n",
        "import time\n",
        "import sys\n",
        "\n",
        "def reloj():\n",
        "    try:\n",
        "        while True:\n",
        "            hora_actual = time.strftime('%H:%M:%S')\n",
        "            sys.stdout.write('\\r' + hora_actual)\n",
        "            sys.stdout.flush()\n",
        "            time.sleep(1)\n",
        "    except KeyboardInterrupt:\n",
        "        print(\"\\nReloj detenido.\")\n",
        "\n",
        "if __name__ == \"__main__\":\n",
        "    reloj()\n",
        "\n"
      ],
      "metadata": {
        "colab": {
          "base_uri": "https://localhost:8080/"
        },
        "id": "z0M70VFIZJtf",
        "outputId": "b3e37ea1-4bf6-47ae-d512-f87dd0ea75ed"
      },
      "execution_count": 13,
      "outputs": [
        {
          "output_type": "stream",
          "name": "stdout",
          "text": [
            "04:10:33\n",
            "Reloj detenido.\n"
          ]
        }
      ]
    }
  ]
}